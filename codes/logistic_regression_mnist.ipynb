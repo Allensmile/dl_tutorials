{
 "cells": [
  {
   "cell_type": "markdown",
   "metadata": {},
   "source": [
    "# Logistic Regression with MNIST"
   ]
  },
  {
   "cell_type": "code",
   "execution_count": 3,
   "metadata": {
    "collapsed": false
   },
   "outputs": [
    {
     "name": "stdout",
     "output_type": "stream",
     "text": [
      "Packs loaded\n"
     ]
    }
   ],
   "source": [
    "import numpy as np\n",
    "import tensorflow as tf\n",
    "import matplotlib.pyplot as plt\n",
    "from tensorflow.examples.tutorials.mnist import input_data\n",
    "print (\"Packs loaded\")"
   ]
  },
  {
   "cell_type": "markdown",
   "metadata": {},
   "source": [
    "# Download and Extract MNIST dataset"
   ]
  },
  {
   "cell_type": "code",
   "execution_count": 4,
   "metadata": {
    "collapsed": false
   },
   "outputs": [
    {
     "name": "stdout",
     "output_type": "stream",
     "text": [
      "Extracting data/train-images-idx3-ubyte.gz\n",
      "Extracting data/train-labels-idx1-ubyte.gz\n",
      "Extracting data/t10k-images-idx3-ubyte.gz\n",
      "Extracting data/t10k-labels-idx1-ubyte.gz\n",
      "MNIST loaded\n"
     ]
    }
   ],
   "source": [
    "mnist      = input_data.read_data_sets('data/', one_hot=True)\n",
    "trainimg   = mnist.train.images\n",
    "trainlabel = mnist.train.labels\n",
    "testimg    = mnist.test.images\n",
    "testlabel  = mnist.test.labels\n",
    "print (\"MNIST loaded\")"
   ]
  },
  {
   "cell_type": "code",
   "execution_count": 6,
   "metadata": {
    "collapsed": false
   },
   "outputs": [
    {
     "name": "stdout",
     "output_type": "stream",
     "text": [
      "Network constructed\n"
     ]
    }
   ],
   "source": [
    "# Parameters of Logistic Regression\n",
    "learning_rate   = 0.01\n",
    "training_epochs = 50\n",
    "batch_size      = 100\n",
    "display_step    = 5\n",
    "\n",
    "# Create Graph for Logistic Regression\n",
    "x = tf.placeholder(\"float\", [None, 784]) \n",
    "y = tf.placeholder(\"float\", [None, 10])  # None is for infinite \n",
    "W = tf.Variable(tf.zeros([784, 10]))\n",
    "b = tf.Variable(tf.zeros([10]))\n",
    "\n",
    "# Activation, Cost, and Optimizing functions\n",
    "actv = tf.nn.softmax(tf.matmul(x, W) + b) # Softmax\n",
    "cost = tf.reduce_mean(-tf.reduce_sum(y*tf.log(actv), reduction_indices=1)) \n",
    "#   Cross entropy\n",
    "# cost = tf.reduce_mean(tf.pow(activation-y, 2))\n",
    "#   Squared loss\n",
    "\n",
    "# * is an element-wise product in numpy (in Matlab, it should be .*)\n",
    "optm = tf.train.GradientDescentOptimizer(learning_rate).minimize(cost) \n",
    "# Gradient Descent\n",
    "pred = tf.equal(tf.argmax(actv, 1), tf.argmax(y, 1))    \n",
    "accr = tf.reduce_mean(tf.cast(pred, \"float\"))\n",
    "\n",
    "# Optimize with TensorFlow\n",
    "# Initializing the variables\n",
    "init = tf.initialize_all_variables()\n",
    "print (\"Network constructed\")"
   ]
  },
  {
   "cell_type": "code",
   "execution_count": 8,
   "metadata": {
    "collapsed": false,
    "scrolled": false
   },
   "outputs": [
    {
     "name": "stdout",
     "output_type": "stream",
     "text": [
      "Epoch: 000/050 cost: 1.171094928 train_acc: 0.810 test_acc: 0.853\n",
      "Epoch: 005/050 cost: 0.436032443 train_acc: 0.880 test_acc: 0.895\n",
      "Epoch: 010/050 cost: 0.386913695 train_acc: 0.880 test_acc: 0.905\n",
      "Epoch: 015/050 cost: 0.356831038 train_acc: 0.920 test_acc: 0.909\n",
      "Epoch: 020/050 cost: 0.344196703 train_acc: 0.880 test_acc: 0.912\n",
      "Epoch: 025/050 cost: 0.329408237 train_acc: 0.900 test_acc: 0.914\n",
      "Epoch: 030/050 cost: 0.325165422 train_acc: 0.910 test_acc: 0.916\n",
      "Epoch: 035/050 cost: 0.314166845 train_acc: 0.930 test_acc: 0.917\n",
      "Epoch: 040/050 cost: 0.307190302 train_acc: 0.910 test_acc: 0.918\n",
      "Epoch: 045/050 cost: 0.296967669 train_acc: 0.910 test_acc: 0.918\n",
      "Optimization Finished!\n",
      "('Accuracy:', 0.91900015)\n",
      "Done.\n"
     ]
    }
   ],
   "source": [
    "# Launch the graph\n",
    "with tf.Session() as sess:\n",
    "    sess.run(init)\n",
    "\n",
    "    # Training cycle\n",
    "    for epoch in range(training_epochs):\n",
    "        avg_cost = 0.\n",
    "        num_batch = int(mnist.train.num_examples/batch_size)\n",
    "        # Loop over all batches\n",
    "        for i in range(num_batch): \n",
    "            if 0: # Using tensorflow API\n",
    "                batch_xs, batch_ys = mnist.train.next_batch(batch_size)\n",
    "            else: # Random batch sampling \n",
    "                randidx = np.random.randint(trainimg.shape[0]\n",
    "                                            , size=batch_size)\n",
    "                batch_xs = trainimg[randidx, :]\n",
    "                batch_ys = trainlabel[randidx, :]                \n",
    "            \n",
    "            # Fit training using batch data\n",
    "            sess.run(optm, feed_dict={x: batch_xs, y: batch_ys})\n",
    "            # Compute average loss\n",
    "            avg_cost += sess.run(cost, feed_dict=\n",
    "                                 {x: batch_xs, y: batch_ys})/num_batch\n",
    "            \n",
    "        # Display logs per epoch step\n",
    "        if epoch % display_step == 0:\n",
    "            train_acc = accr.eval({x: batch_xs, y: batch_ys})\n",
    "            test_acc = accr.eval({x: mnist.test.images, y: mnist.test.labels})\n",
    "            print (\"Epoch: %03d/%03d cost: %.9f train_acc: %.3f test_acc: %.3f\" \n",
    "                   % (epoch, training_epochs, avg_cost, train_acc, test_acc))\n",
    "\n",
    "    print (\"Optimization Finished!\")\n",
    "\n",
    "    # Test model\n",
    "    # Calculate accuracy\n",
    "    print (\"Accuracy:\", accr.eval({x: mnist.test.images\n",
    "                                   , y: mnist.test.labels}))\n",
    "print (\"Done.\")"
   ]
  },
  {
   "cell_type": "code",
   "execution_count": null,
   "metadata": {
    "collapsed": true
   },
   "outputs": [],
   "source": []
  }
 ],
 "metadata": {
  "kernelspec": {
   "display_name": "Python 2",
   "language": "python",
   "name": "python2"
  },
  "language_info": {
   "codemirror_mode": {
    "name": "ipython",
    "version": 2
   },
   "file_extension": ".py",
   "mimetype": "text/x-python",
   "name": "python",
   "nbconvert_exporter": "python",
   "pygments_lexer": "ipython2",
   "version": "2.7.6"
  }
 },
 "nbformat": 4,
 "nbformat_minor": 0
}
