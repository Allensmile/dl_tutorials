{
 "cells": [
  {
   "cell_type": "markdown",
   "metadata": {},
   "source": [
    "# Sample Hangul RNN"
   ]
  },
  {
   "cell_type": "code",
   "execution_count": 1,
   "metadata": {
    "collapsed": false
   },
   "outputs": [
    {
     "name": "stdout",
     "output_type": "stream",
     "text": [
      "Packages Imported\n"
     ]
    }
   ],
   "source": [
    "# -*- coding: utf-8 -*-\n",
    "# Import Packages\n",
    "import numpy as np\n",
    "import tensorflow as tf\n",
    "import collections\n",
    "import string\n",
    "import argparse\n",
    "import time\n",
    "import os\n",
    "from six.moves import cPickle\n",
    "from TextLoader import *\n",
    "from Hangulpy import *\n",
    "print (\"Packages Imported\")"
   ]
  },
  {
   "cell_type": "markdown",
   "metadata": {},
   "source": [
    "# Load dataset using TextLoader"
   ]
  },
  {
   "cell_type": "code",
   "execution_count": 2,
   "metadata": {
    "collapsed": false
   },
   "outputs": [
    {
     "name": "stdout",
     "output_type": "stream",
     "text": [
      "loading preprocessed files\n",
      "type of 'data_loader' is <type 'dict'>, length is 76\n",
      "\n",
      "\n",
      "data_loader.vocab looks like \n",
      "{u'_': 69, u'6': 59, u':': 57, u'\\n': 19, u'4': 67, u'5': 63, u'>': 75, u'!': 52, u' ': 1, u'\"': 28, u'\\u1d25': 0, u\"'\": 49, u')': 46, u'(': 45, u'-': 65, u',': 27, u'.': 24, u'\\u3131': 7, u'0': 73, u'\\u3133': 60, u'\\u3132': 29, u'\\u3135': 50, u'\\u3134': 4, u'\\u3137': 13, u'\\u3136': 44, u'\\u3139': 5, u'\\u3138': 32, u'\\u313b': 55, u'\\u313a': 48, u'\\u313c': 54, u'?': 41, u'3': 66, u'\\u3141': 12, u'\\u3140': 51, u'\\u3143': 47, u'\\u3142': 17, u'\\u3145': 10, u'\\u3144': 43, u'\\u3147': 2, u'\\u3146': 22, u'\\u3149': 40, u'\\u3148': 15, u'\\u314b': 42, u'\\u314a': 23, u'\\u314d': 31, u'\\u314c': 30, u'\\u314f': 3, u'\\u314e': 14, u'\\u3151': 34, u'\\u3150': 21, u'\\u3153': 11, u'\\u3152': 74, u'\\u3155': 18, u'\\u3154': 20, u'\\u3157': 9, u'\\u3156': 39, u'\\u3159': 53, u'\\u3158': 26, u'\\u315b': 38, u'\\u315a': 33, u'\\u315d': 36, u'\\u315c': 16, u'\\u315f': 35, u'\\u315e': 61, u'\\u3161': 8, u'\\u3160': 37, u'\\u3163': 6, u'\\u3162': 25, u'\\x1a': 72, u'9': 64, u'7': 71, u'2': 62, u'1': 58, u'\\u313f': 56, u'\\u313e': 70, u'8': 68} \n",
      "\n",
      "\n",
      "type of 'data_loader.chars' is <type 'tuple'>, length is 76\n",
      "\n",
      "\n",
      "data_loader.chars looks like \n",
      "(u'\\u1d25', u' ', u'\\u3147', u'\\u314f', u'\\u3134', u'\\u3139', u'\\u3163', u'\\u3131', u'\\u3161', u'\\u3157', u'\\u3145', u'\\u3153', u'\\u3141', u'\\u3137', u'\\u314e', u'\\u3148', u'\\u315c', u'\\u3142', u'\\u3155', u'\\n', u'\\u3154', u'\\u3150', u'\\u3146', u'\\u314a', u'.', u'\\u3162', u'\\u3158', u',', u'\"', u'\\u3132', u'\\u314c', u'\\u314d', u'\\u3138', u'\\u315a', u'\\u3151', u'\\u315f', u'\\u315d', u'\\u3160', u'\\u315b', u'\\u3156', u'\\u3149', u'?', u'\\u314b', u'\\u3144', u'\\u3136', u'(', u')', u'\\u3143', u'\\u313a', u\"'\", u'\\u3135', u'\\u3140', u'!', u'\\u3159', u'\\u313c', u'\\u313b', u'\\u313f', u':', u'1', u'6', u'\\u3133', u'\\u315e', u'2', u'5', u'9', u'-', u'3', u'4', u'8', u'_', u'\\u313e', u'7', u'\\x1a', u'0', u'\\u3152', u'>') \n"
     ]
    }
   ],
   "source": [
    "data_dir    = \"data/nine_dreams\"\n",
    "batch_size  = 50\n",
    "seq_length  = 50\n",
    "data_loader = TextLoader(data_dir, batch_size, seq_length)\n",
    "# This makes \"vocab.pkl\" and \"data.npy\" in \"data/nine_dreams\"   \n",
    "#  from \"data/nine_dreams/input.txt\" \n",
    "vocab_size = data_loader.vocab_size\n",
    "vocab = data_loader.vocab\n",
    "chars = data_loader.chars\n",
    "print ( \"type of 'data_loader' is %s, length is %d\" \n",
    "       % (type(data_loader.vocab), len(data_loader.vocab)) )\n",
    "print ( \"\\n\" )\n",
    "print (\"data_loader.vocab looks like \\n%s \" %\n",
    "       (data_loader.vocab))\n",
    "print ( \"\\n\" )\n",
    "print ( \"type of 'data_loader.chars' is %s, length is %d\" \n",
    "       % (type(data_loader.chars), len(data_loader.chars)) )\n",
    "print ( \"\\n\" )\n",
    "print (\"data_loader.chars looks like \\n%s \" % (data_loader.chars,))"
   ]
  },
  {
   "cell_type": "markdown",
   "metadata": {},
   "source": [
    "# Define Network"
   ]
  },
  {
   "cell_type": "code",
   "execution_count": 3,
   "metadata": {
    "collapsed": false
   },
   "outputs": [
    {
     "name": "stdout",
     "output_type": "stream",
     "text": [
      "Network Ready\n"
     ]
    }
   ],
   "source": [
    "rnn_size   = 512\n",
    "num_layers = 3\n",
    "grad_clip  = 5.\n",
    "\n",
    "_batch_size = 1\n",
    "_seq_length = 1\n",
    "\n",
    "vocab_size = data_loader.vocab_size\n",
    "\n",
    "with tf.device(\"/cpu:0\"):\n",
    "    # Select RNN Cell\n",
    "    unitcell = tf.nn.rnn_cell.BasicLSTMCell(rnn_size)\n",
    "    cell = tf.nn.rnn_cell.MultiRNNCell([unitcell] * num_layers)\n",
    "    # Set paths to the graph \n",
    "    input_data = tf.placeholder(tf.int32, [_batch_size, _seq_length])\n",
    "    targets    = tf.placeholder(tf.int32, [_batch_size, _seq_length])\n",
    "    initial_state = cell.zero_state(_batch_size, tf.float32)\n",
    "\n",
    "    # Set Network\n",
    "    with tf.variable_scope('rnnlm'):\n",
    "        softmax_w = tf.get_variable(\"softmax_w\", [rnn_size, vocab_size])\n",
    "        softmax_b = tf.get_variable(\"softmax_b\", [vocab_size])\n",
    "        with tf.device(\"/cpu:0\"):\n",
    "            embedding = tf.get_variable(\"embedding\", [vocab_size, rnn_size])\n",
    "            inputs = tf.split(1, _seq_length, tf.nn.embedding_lookup(embedding, input_data))\n",
    "            inputs = [tf.squeeze(input_, [1]) for input_ in inputs]\n",
    "            \n",
    "    # Loop function for seq2seq\n",
    "    def loop(prev, _):\n",
    "        prev = tf.nn.xw_plus_b(prev, softmax_w, softmax_b)\n",
    "        prev_symbol = tf.stop_gradient(tf.argmax(prev, 1))\n",
    "        return tf.nn.embedding_lookup(embedding, prev_symbol)\n",
    "    # Output of RNN \n",
    "    outputs, last_state = tf.nn.seq2seq.rnn_decoder(inputs, initial_state\n",
    "                                , cell, loop_function=None, scope='rnnlm')\n",
    "    output = tf.reshape(tf.concat(1, outputs), [-1, rnn_size])\n",
    "    logits = tf.nn.xw_plus_b(output, softmax_w, softmax_b)\n",
    "    # Next word probability \n",
    "    probs = tf.nn.softmax(logits)\n",
    "    # Define LOSS\n",
    "    loss = tf.nn.seq2seq.sequence_loss_by_example([logits], # Input\n",
    "        [tf.reshape(targets, [-1])], # Target\n",
    "        [tf.ones([_batch_size * _seq_length])], # Weight \n",
    "        vocab_size)\n",
    "    # Define Optimizer\n",
    "    cost = tf.reduce_sum(loss) / _batch_size / _seq_length\n",
    "    final_state = last_state\n",
    "    lr = tf.Variable(0.0, trainable=False)\n",
    "    tvars = tf.trainable_variables()\n",
    "    grads, _ = tf.clip_by_global_norm(tf.gradients(cost, tvars), grad_clip)\n",
    "    _optm = tf.train.AdamOptimizer(lr)\n",
    "    optm = _optm.apply_gradients(zip(grads, tvars))\n",
    "\n",
    "print (\"Network Ready\")"
   ]
  },
  {
   "cell_type": "code",
   "execution_count": 11,
   "metadata": {
    "collapsed": false
   },
   "outputs": [
    {
     "name": "stdout",
     "output_type": "stream",
     "text": [
      "sampling function done.\n"
     ]
    }
   ],
   "source": [
    "# Sample ! \n",
    "def sample( sess, chars, vocab, __probs, num=200, prime=u'ㅇㅗᴥㄴㅡㄹᴥ '):\n",
    "    state = sess.run(cell.zero_state(1, tf.float32))\n",
    "    _probs = __probs\n",
    "    prime = list(prime)\n",
    "    for char in prime[:-1]:\n",
    "        x = np.zeros((1, 1))\n",
    "        x[0, 0] = vocab[char]\n",
    "        feed = {input_data: x, initial_state:state}\n",
    "        [state] = sess.run([final_state], feed)\n",
    "\n",
    "    def weighted_pick(weights):\n",
    "        weights = weights / np.sum(weights) \n",
    "        t = np.cumsum(weights)\n",
    "        s = np.sum(weights)\n",
    "        return(int(np.searchsorted(t, np.random.rand(1)*s)))\n",
    "\n",
    "    ret = prime\n",
    "    char = prime[-1]\n",
    "    for n in range(num):\n",
    "        x = np.zeros((1, 1))\n",
    "        x[0, 0] = vocab[char]\n",
    "        feed = {input_data: x, initial_state:state}\n",
    "        [_probsval, state] = sess.run([_probs, final_state], feed)\n",
    "        p = _probsval[0]\n",
    "        sample = int(np.random.choice(len(p), p=p))\n",
    "        # sample = weighted_pick(p)\n",
    "        # sample = np.argmax(p)\n",
    "        pred = chars[sample]\n",
    "        ret += pred\n",
    "        char = pred\n",
    "    return ret\n",
    "print (\"sampling function done.\")"
   ]
  },
  {
   "cell_type": "markdown",
   "metadata": {},
   "source": [
    "# Sample"
   ]
  },
  {
   "cell_type": "code",
   "execution_count": 12,
   "metadata": {
    "collapsed": false,
    "scrolled": false
   },
   "outputs": [
    {
     "name": "stdout",
     "output_type": "stream",
     "text": [
      "Prime Text : 누구  => ㄴㅜᴥㄱㅜᴥ \n",
      "data/nine_dreams/model.ckpt-99000\n",
      "SAMPLED TEXT = [u'\\u3134', u'\\u315c', u'\\u1d25', u'\\u3131', u'\\u315c', u'\\u1d25', u' ', u'\\u3141', u'\\u315c', u'\\u3139', u'\\u1d25', u'\\u3147', u'\\u3153', u'\\u3145', u'\\u1d25', u'\\u314e', u'\\u314f', u'\\u1d25', u'\\u3131', u'\\u3157', u'\\u1d25', u'\\n', u'\\n', u' ', u' ', u'\\u3147', u'\\u3153', u'\\u1d25', u'\\u3134', u'\\u3161', u'\\u1d25', u' ', u'\\u3134', u'\\u314f', u'\\u3134', u'\\u1d25', u'\\u3147', u'\\u3151', u'\\u3147', u'\\u1d25', u'\\u3131', u'\\u3150', u'\\u3131', u'\\u1d25', u'\\u3145', u'\\u3163', u'\\u1d25', u'\\u3131', u'\\u314f', u'\\u1d25', u' ', u'\\u3147', u'\\u3163', u'\\u1d25', u'\\u3141', u'\\u3163', u'\\u1d25', u' ', u'\\u3137', u'\\u314f', u'\\u1d25', u'\\u3148', u'\\u314f', u'\\u3147', u'\\u1d25', u' ', u'\\u3134', u'\\u3157', u'\\u1d25', u'\\u3141', u'\\u3150', u'\\u1d25', u' ', u'\\u3132', u'\\u315c', u'\\u1d25', u'\\u3141', u'\\u3150', u'\\u1d25', u' ', u'\\u3147', u'\\u314f', u'\\u1d25', u'\\u3139', u'\\u315a', u'\\u1d25', u'\\u3147', u'\\u3163', u'\\u1d25', u'\\u3132', u'\\u314f', u'\\u1d25', u'?', u'\"', u'\\n', u' ', u' ', u'\\u3131', u'\\u3161', u'\\u1d25', u'\\u3147', u'\\u3160', u'\\u1d25', u'\\u314e', u'\\u3161', u'\\u3141', u'\\u1d25', u'\\u3147', u'\\u3161', u'\\u3134', u'\\u1d25', u' ', u'\\u3148', u'\\u3157', u'\\u3142', u'\\u1d25', u'\\u314e', u'\\u3163', u'\\u1d25', u'\\u3148', u'\\u314f', u'\\u1d25', u' ', u'\\u3147', u'\\u314f', u'\\u3136', u'\\u1d25', u'\\u3131', u'\\u3157', u'\\u1d25', u' ', u'\\u3147', u'\\u3157', u'\\u3134', u'\\u1d25', u'\\u3137', u'\\u3153', u'\\u1d25', u'\\u3148', u'\\u3163', u'\\u1d25', u' ', u'\\u3147', u'\\u314f', u'\\u1d25', u'\\u3134', u'\\u3163', u'\\u1d25', u'\\u314e', u'\\u314f', u'\\u1d25', u'\\u3147', u'\\u3157', u'\\u3139', u'\\u1d25', u' ', u'\\u314c', u'\\u3153', u'\\u1d25', u'\\u3147', u'\\u3163', u'\\u1d25', u'\\u3141', u'\\u3163', u'\\u1d25', u'\\u3134', u'\\u3161', u'\\u3134', u'\\u1d25', u' ', u'\\u3137', u'\\u3157', u'\\u1d25', u'\\u3139', u'\\u3155', u'\\u3134', u'\\u1d25', u'\\u314a', u'\\u3163', u'\\u1d25', u' ', u'\\u3141', u'\\u3157', u'\\u3145', u'\\u1d25', u'\\u314e', u'\\u314f', u'\\u3134', u'\\u1d25', u' ', u'\\u3137', u'\\u315f', u'\\u1d25', u'\\u3147', u'\\u3154', u'\\u1d25', u' ', u'\\u314a', u'\\u314f', u'\\u3141', u'\\u1d25', u'\\u3145', u'\\u3157', u'\\u1d25', u'\\u3139', u'\\u3155', u'\\u1d25', u' ', u'\\u3137', u'\\u3161', u'\\u3139', u'\\u1d25', u'\\u3147', u'\\u3153', u'\\u1d25', u'\\u3131', u'\\u314f', u'\\u3139', u'\\u1d25', u' ', u'\\u3138', u'\\u3161', u'\\u3145', u'\\u1d25', u'\\u3147', u'\\u3163', u'\\u1d25', u'\\u3139', u'\\u3155', u'\\u3146', u'\\u1d25', u'\\u3145', u'\\u314f', u'\\u1d25', u'\\u3147', u'\\u3157', u'\\u1d25', u'\\u3134', u'\\u314f', u'\\u1d25', u',', u' ', u'\\u3131', u'\\u3156', u'\\u1d25', u'\\u3141', u'\\u315c', u'\\u3134', u'\\u1d25', u'\\u3131', u'\\u3157', u'\\u1d25', u'\\u3147', u'\\u3154', u'\\u1d25', u'\\u3145', u'\\u3153', u'\\u1d25', u' ', u'\\u3145', u'\\u315c', u'\\u1d25', u'\\u3139', u'\\u3161', u'\\u3139', u'\\u1d25', u' ', u'\\u314e', u'\\u3153', u'\\u1d25', u'\\u3148', u'\\u3163', u'\\u3141', u'\\u1d25', u'\\u3147', u'\\u3161', u'\\u3139', u'\\u1d25', u' ', u'\\u3142', u'\\u315c', u'\\u1d25', u'\\u3139', u'\\u3161', u'\\u1d25', u'\\u3131', u'\\u3154', u'\\u1d25', u' ', u'\\n', u'\\u3145', u'\\u3157', u'\\u1d25', u'\\u3137', u'\\u3155', u'\\u1d25', u'\\u3147', u'\\u3158', u'\\u3146', u'\\u1d25', u'\\u3147', u'\\u3161', u'\\u1d25', u'\\u3134', u'\\u3163', u'\\u1d25', u' ', u'\\u3145', u'\\u315c', u'\\u3139', u'\\u1d25', u'\\u3147', u'\\u3161', u'\\u3134', u'\\u1d25', u' ', u'\\u3134', u'\\u314f', u'\\u3141', u'\\u1d25', u'\\u3134', u'\\u314f', u'\\u1d25', u'\\u3139', u'\\u314f', u'\\u1d25', u' ', u'\\u3148', u'\\u3153', u'\\u1d25', u'\\u3131', u'\\u3157', u'\\u1d25', u'\\u314e', u'\\u314f', u'\\u3134', u'\\u1d25', u'\\u3148', u'\\u3161', u'\\u3131', u'\\u1d25', u' ', u'\\u3147', u'\\u3163', u'\\u1d25', u'\\u3145', u'\\u3157', u'\\u1d25', u'\\u3148', u'\\u3153', u'\\u1d25', u'\\u3139', u'\\u3161', u'\\u3139', u'\\u1d25', u' ', u'\\u3147', u'\\u3153', u'\\u314c', u'\\u1d25', u'\\u3147', u'\\u3153', u'\\u1d25', u' ', u'\\u3141', u'\\u314f', u'\\u3148', u'\\u1d25', u'\\u3147', u'\\u3161', u'\\u3134', u'\\u1d25', u' ', u'\\u3138', u'\\u314f', u'\\u3139', u'\\u1d25', u'\\u3147', u'\\u3161', u'\\u3139', u'\\u1d25', u' ', u'\\u3132', u'\\u3161', u'\\u3148', u'\\u1d25', u'\\u3131', u'\\u3157', u'\\u1d25', u' ', u'\\u3145', u'\\u3157', u'\\u1d25', u'\\u3147', u'\\u3154', u'\\u1d25', u' ', u'\\u3141', u'\\u3163', u'\\u1d25', u'\\u3147', u'\\u3163', u'\\u3134', u'\\u1d25', u' ', u'\\u3131', u'\\u3156', u'\\u1d25', u'\\u3139', u'\\u3156', u'\\u1d25', u'\\u3131', u'\\u314f', u'\\u1d25', u' ', u'\\n', u'\\u3141', u'\\u314f', u'\\u3139', u'\\u1d25', u'\\u314e', u'\\u3150', u'\\u3146', u'\\u1d25', u'\\u3137', u'\\u314f', u'\\u1d25', u'.', u' ', u'\\n', u' ', u' ', u'\"', u'\\u3147', u'\\u3153', u'\\u1d25', u'\\u3134', u'\\u3161', u'\\u1d25', u' ', u'\\u3145', u'\\u314f', u'\\u1d25', u'\\u3137', u'\\u314f', u'\\u1d25', u'\\u3142', u'\\u3157', u'\\u1d25', u'\\u3148', u'\\u3163', u'\\u1d25', u' ', u'\\u3147', u'\\u314f', u'\\u1d25', u'\\u3148', u'\\u3163', u'\\u3134', u'\\u1d25', u' ', u'\\u3147', u'\\u314f', u'\\u314d', u'\\u1d25', u'\\u3147', u'\\u3163', u'\\u1d25', u' ', u'\\u3147', u'\\u3153', u'\\u1d25', u'\\u3139', u'\\u315c', u'\\u1d25', u' ', u'\\u3145', u'\\u3153', u'\\u1d25', u'\\u3139', u'\\u3153', u'\\u1d25', u'\\u3147', u'\\u315d', u'\\u1d25', u'\\u314e', u'\\u314f', u'\\u1d25', u'\\u3131', u'\\u3157', u'\\u1d25', u' ', u'\\u3131', u'\\u314f', u'\\u3146', u'\\u1d25', u'\\u3147', u'\\u3161', u'\\u3139', u'\\u1d25', u'\\u3148', u'\\u3163', u'\\u1d25', u'\\u3139', u'\\u314f', u'\\u1d25', u'.', u' ', u'\\u3131', u'\\u315c', u'\\u3134', u'\\u1d25', u'\\u3145', u'\\u314f', u'\\u1d25', u'\\u3137', u'\\u3161', u'\\u3139', u'\\u1d25', u'\\u3147', u'\\u3161', u'\\u3134', u'\\u1d25', u' ', u'\\u3147', u'\\u314f', u'\\u1d25', u'\\u3134', u'\\u3163', u'\\u1d25', u'\\u3139', u'\\u3157', u'\\u1d25', u' ', u'\\u3145', u'\\u314f', u'\\u3141', u'\\u1d25', u'\\u3147', u'\\u3161', u'\\u3134', u'\\u1d25', u' ', u'\\u3131', u'\\u3157', u'\\u3147', u'\\u1d25', u'\\u3131', u'\\u315f', u'\\u1d25', u'\\u314d', u'\\u3157', u'\\u3147', u'\\u1d25', u' ', u'\\u3134', u'\\u314f', u'\\u3141', u'\\u1d25', u'\\u314e', u'\\u3158', u'\\u3147', u'\\u1d25', u'(', u'\\u3131', u'\\u3158', u'\\u1d25', u'\\u3145', u'\\u3153', u'\\u1d25', u' ', u'\\u3137', u'\\u3153', u'\\u3131', u'\\u1d25', u'\\u3139', u'\\u3157', u'\\u3147', u'\\u1d25', u'\\u3148', u'\\u3157', u'\\u1d25', u'\\u3131', u'\\u3161', u'\\u3141', u'\\u1d25', u'\\u3147', u'\\u3162', u'\\u1d25', u' ', u'\\u3145', u'\\u315c', u'\\u1d25', u'\\u3148', u'\\u3153', u'\\u3131', u'\\u1d25', u'\\u314e', u'\\u314f', u'\\u3134', u'\\u1d25', u' ', u'\\u3141', u'\\u3155', u'\\u3147', u'\\u1d25', u'\\u3131', u'\\u315d', u'\\u3134', u'\\u1d25', u'\\u3147', u'\\u3161', u'\\u3139', u'\\u1d25', u' ', u'\\u3131', u'\\u3153', u'\\u1d25', u'\\u314a', u'\\u315c', u'\\u3134', u'\\u1d25', u' ', u'\\n', u'\\u3141', u'\\u314f', u'\\u3134', u'\\u1d25', u' ', u'\\u314e', u'\\u3153', u'\\u1d25', u'\\u3139', u'\\u3163', u'\\u1d25', u'\\u3147', u'\\u3154', u'\\u1d25', u'\"', u'\\u314c', u'\\u314f', u'\\u1d25', u'.', u' ', u'\\u3145', u'\\u3157', u'\\u1d25', u'\\u3142', u'\\u3157', u'\\u3147', u'\\u1d25', u'\\u3131', u'\\u3158', u'\\u1d25', u' ', u'\\u3141', u'\\u3155', u'\\u3134', u'\\u1d25', u'\\u314e', u'\\u3158', u'\\u1d25', u'\\u314e', u'\\u314f', u'\\u3134', u'\\u1d25', u' ', u'\\u3137', u'\\u3150', u'\\u1d25', u' ', u'\\u3131', u'\\u314f', u'\\u3141', u'\\u1d25', u'\\u3137', u'\\u3157', u'\\u1d25', u' ', u'\\u3147', u'\\u3153', u'\\u3144', u'\\u1d25', u'\\u3134', u'\\u3161', u'\\u3134', u'\\u1d25', u'\\u3131', u'\\u314f', u'\\u1d25', u'.', u'\"', u'\\n', u' ', u' ', u'\\u3131', u'\\u315c', u'\\u3147', u'\\u1d25', u'\\u3148', u'\\u315c', u'\\u3147', u'\\u1d25', u'\\u3147', u'\\u3154', u'\\u1d25', u' ', u'\\u3131', u'\\u3153', u'\\u3134', u'\\u1d25', u'\\u3148', u'\\u3163', u'\\u3134', u'\\u1d25', u' ', u'\\n', u'\\u3148', u'\\u3163', u'\\u3142', u'\\u1d25', u'\\u3147', u'\\u3154', u'\\u1d25', u'\\u3145', u'\\u3153', u'\\u1d25', u' ', u'\\u3132', u'\\u314f', u'\\u1d25', u'\\u3139', u'\\u3163', u'\\u1d25', u'\\u3147', u'\\u3154', u'\\u1d25', u'\\u3131', u'\\u3154', u'\\u1d25', u' ', u'\\u3137', u'\\u315c', u'\\u3139', u'\\u1d25', u'\\u3139', u'\\u3153', u'\\u3146', u'\\u1d25', u'\\u3137', u'\\u314f', u'\\u1d25', u'.', u' ', u'\\u3148', u'\\u3163', u'\\u1d25', u'\\u3134', u'\\u314f', u'\\u3134', u'\\u1d25', u'\\u3134', u'\\u314f', u'\\u3139', u'\\u1d25', u' ', u'\\u3134', u'\\u314f', u'\\u1d25', u'\\u3147', u'\\u3162', u'\\u1d25', u' ', u'\\u3142', u'\\u3163', u'\\u1d25', u'\\u314d', u'\\u3163', u'\\u3139', u'\\u1d25', u')', u'\\u3147', u'\\u3163', u'\\u1d25', u' ', u'\\u3145', u'\\u3161', u'\\u3147', u'\\u1d25', u'\\u3145', u'\\u314f', u'\\u3147', u'\\u1d25', u'\\u3147', u'\\u3163', u'\\u1d25', u' ', u'\\u3137', u'\\u315a', u'\\u1d25', u'\\u3141', u'\\u3155', u'\\u3134', u'\\u1d25', u'\\u3145', u'\\u3153', u'\\u1d25', u' ', u'\\u314e', u'\\u3157', u'\\u3134', u'\\u1d25', u'\\u3147', u'\\u315b', u'\\u1d25', u'\\u314e', u'\\u314f', u'\\u1d25', u'\\u3137', u'\\u315a', u'\\u1d25', u',', u' ', u'\\n', u' ', u' ', u'\"', u'\\u3147', u'\\u314f', u'\\u1d25', u'\\u3131', u'\\u314f', u'\\u1d25', u'\\u3146', u'\\u3163', u'\\u1d25', u' ', u'\\u314e', u'\\u314f', u'\\u3134', u'\\u1d25', u' ', u'\\u3145', u'\\u3154', u'\\u1d25', u' ', u'\\u314c', u'\\u314f', u'\\u3131', u'\\u1d25', u'\\u3147', u'\\u3155', u'\\u3134', u'\\u1d25', u'\\u3145', u'\\u3154', u'\\u1d25', u'\\u3147', u'\\u3162', u'\\u1d25', u' ', u'\\u3142', u'\\u3155', u'\\u3134', u'\\u1d25', u'\\u314e', u'\\u3150', u'\\u1d25', u'\\u3147', u'\\u3160', u'\\u1d25', u'\\u3147', u'\\u3163', u'\\u1d25', u'(', u'\\u314e', u'\\u3151', u'\\u3147', u'\\u1d25', u'\\u3131', u'\\u315c', u'\\u3131', u'\\u1d25', u'\\u3137', u'\\u3161', u'\\u3139', u'\\u1d25', u'\\u3147', u'\\u3163', u'\\u1d25', u'\\u3141', u'\\u3155', u'\\u1d25', u' ', u'\\u3131', u'\\u315c', u'\\u3134', u'\\u1d25', u'\\u3145', u'\\u314f', u'\\u1d25', u'\\u3139', u'\\u3161', u'\\u3139', u'\\u1d25', u' ', u'\\u314d', u'\\u3150', u'\\u1d25', u'\\u3131', u'\\u3157', u'\\u1d25', u'\\u314e', u'\\u314f', u'\\u1d25', u'\\u3137', u'\\u315a', u'\\u1d25', u' ', u'\\u314e', u'\\u314f', u'\\u1d25', u'\\u3134', u'\\u3161', u'\\u3134', u'\\u1d25', u' ', u'\\u3148', u'\\u314f', u'\\u1d25', u'\\u3139', u'\\u3161', u'\\u3139', u'\\u1d25', u' ', u'\\u314a', u'\\u314f', u'\\u1d25', u'\\u3148', u'\\u314f', u'\\u1d25', u'\\u3147', u'\\u3154', u'\\u1d25', u' ', u'\\u314c', u'\\u314f', u'\\u1d25', u'\\u3147', u'\\u3157', u'\\u3142', u'\\u1d25', u'\\u3134', u'\\u3161', u'\\u3134', u'\\u1d25', u' ', u'\\u3134', u'\\u314f', u'\\u3141', u'\\u1d25', u'\\u3131', u'\\u3155', u'\\u3131', u'\\u1d25', u'\\u3147', u'\\u3163', u'\\u1d25', u' ', u'\\n', u'\\u3145', u'\\u3163', u'\\u3139', u'\\u1d25', u'\\u3139', u'\\u3157', u'\\u1d25', u' ', u'\\u3131', u'\\u3155', u'\\u3147', u'\\u1d25', u'\\u314a', u'\\u314f', u'\\u1d25', u'\\u3139', u'\\u3161', u'\\u3139', u'\\u1d25', u' ', u'\\u3134', u'\\u3150', u'\\u1d25', u'\\u3139', u'\\u3163', u'\\u1d25', u'\\u3134', u'\\u3161', u'\\u3134', u'\\u1d25', u' ', u'\\u3131', u'\\u3161', u'\\u1d25', u' ', u'\\u3131', u'\\u3156', u'\\u1d25', u'\\u3139', u'\\u314f', u'\\u3147', u'\\u1d25', u'\\u3147', u'\\u3162', u'\\u1d25', u' ', u'\\u3145', u'\\u3157', u'\\u3131', u'\\u1d25', u'\\u3131', u'\\u314f', u'\\u3145', u'\\u1d25', u'\\u3147', u'\\u3154', u'\\u1d25', u' ', u'\\u314a', u'\\u314f', u'\\u3147', u'\\u1d25', u'\\u3148', u'\\u3150', u'\\u1d25', u'\\u3139', u'\\u3157', u'\\u1d25', u' ', u'\\u3142', u'\\u3157', u'\\u1d25', u'\\u3134', u'\\u3150', u'\\u1d25', u'\\u3131', u'\\u3155', u'\\u1d25', u' ', u'\\n', u'\\u3137', u'\\u3150', u'\\u1d25', u'\\u3137', u'\\u314f', u'\\u3142', u'\\u1d25', u'\\u3137', u'\\u315a', u'\\u1d25', u'\\u3146', u'\\u3163', u'\\u1d25', u'\\u3141', u'\\u314f', u'\\u3134', u'\\u1d25', u' ', u'\\u3147', u'\\u3163', u'\\u1d25', u'\\u3139', u'\\u3161', u'\\u1d25', u'\\u3141', u'\\u3155', u'\\u3134', u'\\u1d25', u' ', u'\\u314e', u'\\u315c', u'\\u1d25', u'\\u3147', u'\\u3154', u'\\u1d25', u' ', u'\\u3147', u'\\u3157', u'\\u3134', u'\\u1d25', u' ', u'\\u3148', u'\\u315c', u'\\u1d25', u'\\u3139', u'\\u3163', u'\\u1d25', u'\\u3134', u'\\u3163', u'\\u1d25', u' ', u'\\u3147', u'\\u3163', u'\\u1d25', u'\\u3131', u'\\u3153', u'\\u3145', u'\\u1d25', u'\\u3147', u'\\u3161', u'\\u3139', u'\\u1d25', u' ', u'\\u3131', u'\\u3161', u'\\u1d25', u'\\u3139', u'\\u3153', u'\\u1d25', u'\\u3134', u'\\u315c', u'\\u1d25', u'\\u3141', u'\\u3150', u'\\u1d25', u' ', u'\\u3148', u'\\u315c', u'\\u3147', u'\\u1d25', u'\\u3131', u'\\u3155', u'\\u3147', u'\\u1d25', u'\\u3131', u'\\u3157', u'\\u3147', u'\\u1d25', u'\\u3148', u'\\u315c', u'\\u1d25', u'\\u3147', u'\\u3158', u'\\u1d25', u' ', u'\\u3147', u'\\u315d', u'\\u3134', u'\\u1d25', u'\\u314a', u'\\u3158', u'\\u1d25', u'\\u3137', u'\\u3157', u'\\u1d25', u' ', u'\\n', u'\\u3147', u'\\u3163', u'\\u3139', u'\\u1d25', u'\\u3147', u'\\u3153', u'\\u1d25', u'\\u3148', u'\\u3163', u'\\u3141', u'\\u1d25', u',', u' ', u'\\u3131', u'\\u3161', u'\\u1d25', u'\\u3139', u'\\u3163', u'\\u1d25', u'\\u3131', u'\\u3153', u'\\u1d25', u'\\u3134', u'\\u3161', u'\\u3139', u'\\u1d25', u' ', u'\\u3137', u'\\u315c', u'\\u1d25', u' ', u'\\u3137', u'\\u315c', u'\\u1d25', u' ', u'\\u3147', u'\\u3163', u'\\u1d25', u'\\u3145', u'\\u314f', u'\\u3147', u'\\u1d25', u'\\u3147', u'\\u3162', u'\\u1d25', u' ', u'\\u3147', u'\\u3155', u'\\u3139', u'\\u1d25', u'\\u3139', u'\\u3157', u'\\u1d25', u' ', u'\\u314e', u'\\u314f', u'\\u1d25', u'\\u3147', u'\\u3155', u'\\u1d25', u'\\u3131', u'\\u3161', u'\\u3141', u'\\u1d25', u' ', u'\\u3145', u'\\u3157', u'\\u3147', u'\\u1d25', u'\\u3147', u'\\u3161', u'\\u3134', u'\\u1d25', u'\\u314e', u'\\u3163', u'\\u1d25', u' ', u'\\u3131', u'\\u3163', u'\\u1d25', u'\\u3132', u'\\u314f', u'\\u3134', u'\\u1d25', u'\\u314e', u'\\u314f', u'\\u1d25', u'\\u3145', u'\\u3163', u'\\u1d25', u'\\u3147', u'\\u3157', u'\\u1d25', u'?', u'\"', u'\\n', u' ', u' ', u'\\u3148', u'\\u314f', u'\\u3147', u'\\u1d25', u'\\u3145', u'\\u3157', u'\\u1d25', u'\\u3131', u'\\u314f', u'\\u1d25', u' ', u'\\u3137', u'\\u3150', u'\\u1d25', u'\\u3137', u'\\u314f', u'\\u3142', u'\\u1d25', u'\\u314e', u'\\u314f', u'\\u1d25', u'\\u3131', u'\\u3163', u'\\u1d25', u'\\u3139', u'\\u3161', u'\\u3139', u'\\u1d25', u',', u' ', u'\\n', u' ', u' ', u'\"', u'\\u3145', u'\\u3153', u'\\u3147', u'\\u1d25', u'\\u3148', u'\\u3154', u'\\u1d25', u'\\u3148', u'\\u314f', u'\\u1d25', u' ', u'\\u3147', u'\\u314f', u'\\u1d25', u'\\u3134', u'\\u3163', u'\\u1d25', u'\\u314e', u'\\u314f', u'\\u3141', u'\\u1d25', u'\\u3147', u'\\u3163', u'\\u1d25', u' ', u'\\u314e', u'\\u3157', u'\\u3131', u'\\u1d25', u'\\u3145', u'\\u3157', u'\\u1d25', u' ', u'\\u314e', u'\\u314f', u'\\u1d25', u'\\u3147', u'\\u3155', u'\\u1d25', u'\\u3131', u'\\u3161', u'\\u3141', u'\\u1d25', u' ', u'\\u3148', u'\\u314f', u'\\u1d25', u'\\u3131', u'\\u314f', u'\\u1d25', u' ', u'\\u3145', u'\\u3157', u'\\u3134', u'\\u1d25', u'\\u3147', u'\\u315b', u'\\u1d25', u'\\u3139', u'\\u3161', u'\\u3139', u'\\u1d25', u' ', u'\\u3148', u'\\u3157', u'\\u1d25', u'\\u3145', u'\\u314f', u'\\u3147', u'\\u1d25', u'\\u3147', u'\\u3161', u'\\u1d25', u'\\u3139', u'\\u3157', u'\\u1d25', u' ', u'\\u3137', u'\\u3161', u'\\u3139', u'\\u1d25', u'\\u3147', u'\\u3153', u'\\u1d25', u'\\u3131', u'\\u314f', u'\\u1d25', u'\\u3137', u'\\u3153', u'\\u1d25', u'.', u'\"', u'\\n', u' ', u' ', u'\\u3147', u'\\u3163', u'\\u1d25', u'\\u3131', u'\\u3157', u'\\u1d25', u'\\u3148', u'\\u314f', u'\\u1d25', u' ', u'\\u314d', u'\\u315c', u'\\u1d25', u'\\u3147', u'\\u3161', u'\\u3141', u'\\u1d25', u'\\u3147', u'\\u3163', u'\\u1d25', u' ', u'\\u3141', u'\\u314f', u'\\u3134', u'\\u1d25', u'\\u3148', u'\\u3161', u'\\u3131', u'\\u1d25', u' ', u'\\u3148', u'\\u315c', u'\\u3139', u'\\u1d25', u'\\u3147', u'\\u3161', u'\\u3139', u'\\u1d25', u' ', u'\\u3141', u'\\u315c', u'\\u3139', u'\\u1d25', u'\\u3147', u'\\u3153', u'\\u3146', u'\\u1d25', u'\\u3137', u'\\u314f', u'\\u1d25', u'.', u' ', u'\\n', u' ', u' ', u'\"', u'\\u3145', u'\\u3153', u'\\u3147', u'\\u1d25', u'\\u3147', u'\\u3161', u'\\u3134', u'\\u1d25', u'\\u3147', u'\\u3163', u'\\u1d25', u' ', u'\\u3141', u'\\u314f', u'\\u3134', u'\\u1d25', u'\\u3148', u'\\u315c', u'\\u1d25', u'\\u314e', u'\\u314f', u'\\u1d25', u'\\u3131', u'\\u3157', u'\\u1d25', u' ', u'\\u3145', u'\\u314f', u'\\u1d25', u'\\u3139', u'\\u314f', u'\\u3141', u'\\u1d25', u'\\u3147', u'\\u3161', u'\\u3139', u'\\u1d25', u' ', u'\\u3142', u'\\u3163', u'\\u314a', u'\\u1d25', u'\\u3147', u'\\u3161', u'\\u1d25', u'\\u3145', u'\\u3163', u'\\u1d25', u'\\u3134', u'\\u3161', u'\\u3134', u'\\u1d25', u' ', u'\\u3137', u'\\u3161', u'\\u3145', u'\\u1d25', u'\\u314e', u'\\u314f', u'\\u3134', u'\\u1d25', u'\\u3137', u'\\u3154', u'\\u1d25', u'\\u3137', u'\\u3157', u'\\u1d25', u' ', u'\\u3147', u'\\u3153', u'\\u1d25', u'\\u3149', u'\\u3163', u'\\u1d25', u' ', u'\\u3147', u'\\u314f', u'\\u3131', u'\\u1d25', u'\\u3145', u'\\u3163', u'\\u1d25', u' ', u'\\u314e', u'\\u3153', u'\\u1d25', u'\\u3142', u'\\u3157', u'\\u3131', u'\\u1d25', u'\\u314e', u'\\u314f', u'\\u3131', u'\\u1d25', u' ', u'\\u3148', u'\\u315c', u'\\u1d25', u'\\u3145', u'\\u3153', u'\\u1d25', u'\\u3139', u'\\u3157', u'\\u1d25', u' ', u'\\u3131', u'\\u3161', u'\\u1d25', u'\\u3137', u'\\u314f', u'\\u1d25', u'\\u3142', u'\\u3157', u'\\u1d25', u'\\u3131', u'\\u3163', u'\\u1d25', u'\\u3139', u'\\u3161', u'\\u3139', u'\\u1d25', u' ', u'\\n', u' ', u' ', u'\\u3131', u'\\u3157', u'\\u3147', u'\\u1d25', u'\\u3148', u'\\u315c', u'\\u1d25', u'\\u3134', u'\\u3161', u'\\u3134', u'\\u1d25', u' ', u'\\u3137', u'\\u3161', u'\\u3139', u'\\u1d25', u'\\u3147', u'\\u3153', u'\\u1d25', u'\\u3131', u'\\u314f', u'\\u1d25', u' ', u'\\u3142', u'\\u315c', u'\\u313a', u'\\u1d25', u' ', u'\\u3132', u'\\u3161', u'\\u1d25', u'\\u314b', u'\\u3163', u'\\u1d25', u'\\u3131', u'\\u3154', u'\\u1d25', u' ', u'\\u3142', u'\\u3157', u'\\u1d25', u'\\u3134', u'\\u3157', u'\\u1d25', u'\\u3137', u'\\u314f', u'\\u1d25', u'\\u3139', u'\\u3150', u'\\u3147', u'\\u1d25', u'\\u314e', u'\\u314f', u'\\u3134', u'\\u1d25', u' ', u'\\u3148', u'\\u3153', u'\\u3147', u'\\u1d25', u'\\u3145', u'\\u3157', u'\\u1d25', u'\\u3148', u'\\u3153', u'\\u1d25', u'\\u3147', u'\\u3154', u'\\u1d25', u'\\u3131', u'\\u3154', u'\\u1d25', u' ', u'\\u314e', u'\\u314f', u'\\u3141', u'\\u1d25', u'\\u3131', u'\\u3158', u'\\u1d25', u' ', u'\\u3131', u'\\u314f', u'\\u314c', u'\\u1d25', u'\\u3148', u'\\u3163', u'\\u1d25', u' ', u'\\u3141', u'\\u3157', u'\\u3145', u'\\u1d25', u'\\u314e', u'\\u314f', u'\\u1d25', u'\\u3147', u'\\u3155', u'\\u3146', u'\\u1d25', u'\\u3134', u'\\u3161', u'\\u3134', u'\\u1d25', u'\\u3137', u'\\u3154', u'\\u1d25', u' ', u'\\u3147', u'\\u3153', u'\\u1d25', u'\\u3149', u'\\u3163', u'\\u1d25', u' ', u'\\u3147', u'\\u3153', u'\\u1d25', u'\\u3149', u'\\u3163', u'\\u1d25', u' ', u'\\u314e', u'\\u314f', u'\\u1d25', u'\\u3145', u'\\u314f', u'\\u3147', u'\\u1d25', u'\\u314e', u'\\u314f', u'\\u1d25', u'\\u3134', u'\\u3161', u'\\u3134', u'\\u1d25', u' ', u'\\u3131', u'\\u3157', u'\\u3139', u'\\u1d25', u'\\u3147', u'\\u3162', u'\\u1d25', u' ', u'\\n', u'\\u314e', u'\\u3158', u'\\u1d25', u'\\u3147', u'\\u314f', u'\\u3131', u'\\u1d25', u'\\u3147', u'\\u3161', u'\\u3139', u'\\u1d25', u' ', u'\\u3138', u'\\u3153', u'\\u1d25', u'\\u3139', u'\\u3157', u'\\u1d25', u' ', u'\\u3134', u'\\u314f', u'\\u3139', u'\\u1d25', u'\\u3131', u'\\u3157', u'\\u1d25', u' ', u'\\u3138', u'\\u314f', u'\\u1d25', u'\\u3147', u'\\u314f', u'\\u3146', u'\\u1d25', u'\\u3147', u'\\u3161', u'\\u3139', u'\\u1d25', u' ', u'\\u3143', u'\\u3153', u'\\u314a', u'\\u1d25', u'\\u3147', u'\\u3161', u'\\u3141', u'\\u1d25', u' ', u'\\u3147', u'\\u3163', u'\\u3142', u'\\u1d25', u'\\u3131', u'\\u3163', u'\\u1d25', u'\\u3134', u'\\u3163', u'\\u3134', u'\\u1d25', u' ', u'\\u3147', u'\\u3155', u'\\u3134', u'\\u1d25', u'\\u314e', u'\\u3157', u'\\u1d25', u'\\u3131', u'\\u314f', u'\\u1d25', u' ', u'\\u3137', u'\\u315c', u'\\u1d25', u'\\u314a', u'\\u3153', u'\\u1d25', u'\\u3137', u'\\u3161', u'\\u3139', u'\\u1d25', u'\\u3147', u'\\u3161', u'\\u3134', u'\\u1d25', u' ', u'\\u3148', u'\\u3157', u'\\u3141', u'\\u1d25', u'\\u314e', u'\\u3163', u'\\u1d25', u' ', u'\\u3137', u'\\u314f', u'\\u1d25', u'\\u3139', u'\\u3161', u'\\u1d25', u'\\u3139', u'\\u3163', u'\\u1d25', u'\\u3139', u'\\u314f', u'\\u1d25', u'.', u' ', u'\\n', u'\\n', u' ', u' ', u'\\u3147', u'\\u3151', u'\\u3147', u'\\u1d25', u'\\u3145', u'\\u3161', u'\\u3147', u'\\u1d25', u'\\u3145', u'\\u314f', u'\\u3147', u'\\u1d25', u'\\u3147', u'\\u3163', u'\\u1d25', u' ', u'\\u3137', u'\\u314f', u'\\u1d25', u'\\u3145', u'\\u3163', u'\\u1d25', u' ', u'\\u3141', u'\\u3153', u'\\u3139', u'\\u1d25', u'\\u3147', u'\\u3153', u'\\u3146', u'\\u1d25', u'\\u3147', u'\\u3161', u'\\u1d25', u'\\u3134', u'\\u3163', u'\\u1d25', u',', u' ', u'\\u3147', u'\\u315c', u'\\u1d25', u'\\u3139', u'\\u3163', u'\\u1d25', u' ', u'\\u3145', u'\\u3153', u'\\u3134', u'\\u1d25', u'\\u3131', u'\\u315b', u'\\u1d25', u'\\u3137', u'\\u3157', u'\\u1d25', u' ', u'\\u3131', u'\\u314f', u'\\u1d25', u'\\u3139', u'\\u3157', u'\\u1d25', u'\\u314a', u'\\u3153', u'\\u1d25', u' ', u'\\u3141', u'\\u3157', u'\\u1d25', u'\\u3139', u'\\u3161', u'\\u1d25', u'\\u314a', u'\\u3163', u'\\u1d25', u'\\u3131', u'\\u3157', u'\\u1d25', u' ', u'\\u3145', u'\\u3157', u'\\u1d25', u'\\u3148', u'\\u315c', u'\\u1d25', u' ', u'\\u3141', u'\\u315c', u'\\u3145', u'\\u1d25', u'\\u3147', u'\\u3161', u'\\u3139', u'\\u1d25', u' ', u'\\u314a', u'\\u3153', u'\\u3134', u'\\u1d25', u'\\u314e', u'\\u314f', u'\\u1d25', u'\\u3147', u'\\u3162', u'\\u1d25', u' ', u'\\u3134', u'\\u314f', u'\\u3141', u'\\u1d25', u'\\u3147', u'\\u3161', u'\\u3134', u'\\u1d25', u' ', u'\\u3131', u'\\u3154', u'\\u1d25', u' ', u'\\u3147', u'\\u314f', u'\\u1d25', u'\\u3137', u'\\u315a', u'\\u1d25', u'\\u3147', u'\\u3153', u'\\u3146', u'\\u1d25', u'\\u3134', u'\\u3161', u'\\u3134', u'\\u1d25', u'\\u3137', u'\\u3154', u'\\u1d25', u' ', u'\\u3147', u'\\u315d', u'\\u3134', u'\\u1d25', u'\\u3145', u'\\u315c', u'\\u1d25', u'\\u3147', u'\\u3162', u'\\u1d25', u' ', u'\\u3141', u'\\u314f', u'\\u3134', u'\\u1d25', u'\\u3148', u'\\u3163', u'\\u1d25', u'\\u3147', u'\\u3154', u'\\u1d25', u' ', u'\\u3147', u'\\u314f', u'\\u3135', u'\\u1d25', u'\\u3147', u'\\u314f', u'\\u1d25', u'\\u3145', u'\\u3153', u'\\u1d25', u' ', u'\\n', u'\\u3148', u'\\u3153', u'\\u3147', u'\\u1d25', u'\\u314a', u'\\u314f', u'\\u1d25', u'\\u3139', u'\\u3161', u'\\u3139', u'\\u1d25', u' ']\n",
      "\n",
      "-- RESULT --\n",
      "누구 물엇하고\n",
      "\n",
      "  어느 난양객시가 이미 다장 노매 꾸매 아뢰이까?\"\n",
      "  그유흠은 좁히자 않고 온더지 아니하올 터이미는 도련치 못한 뒤에 참소려 들어갈 뜻이렸사오나, 계문고에서 수를 허짐을 부르게 \n",
      "소뎌왔으니 술은 남나라 저고한즉 이소저를 엍어 맞은 딸을 끚고 소에 미인 계례가 \n",
      "말했다. \n",
      "  \"어느 사다보지 아진 앞이 어루 서러워하고 갔을지라. 군사들은 아니로 삼은 공귀퐁 남황(과서 덕롱조금의 수적한 명권을 거춘 \n",
      "만 허리에\"타. 소봉과 면화한 대 감도 없는가.\"\n",
      "  궁중에 건진 \n",
      "집에서 까리에게 둘렀다. 지난날 나의 비필)이 승상이 되면서 혼요하되, \n",
      "  \"아가씨 한 세 탁연세의 변해유이(향국들이며 군사를 패고하되 하는 자를 차자에 타옵는 남격이 \n",
      "실로 경차를 내리는 그 계랑의 속갓에 창재로 보내겨 \n",
      "대답되씨만 이르면 후에 온 주리니 이것을 그러누매 중경공주와 원촤도 \n",
      "일어짐, 그리거늘 두 두 이상의 열로 하여금 송은히 기깐하시오?\"\n",
      "  장소가 대답하기를, \n",
      "  \"성제자 아니함이 혹소 하여금 자가 손요를 조상으로 들어가더.\"\n",
      "  이고자 푸음이 만즉 줄을 물었다. \n",
      "  \"성은이 만주하고 사람을 빛으시는 듯한데도 어찌 악시 허복학 주서로 그다보기를 \n",
      "  공주는 들어가 붉 끄키게 보노다랭한 정소저에게 함과 같지 못하였는데 어찌 어찌 하상하는 골의 \n",
      "화악을 떠로 날고 따았을 뻧음 입기닌 연호가 두처들은 좀히 다르리라. \n",
      "\n",
      "  양승상이 다시 멀었으니, 우리 선교도 가로처 모르치고 소주 뭇을 천하의 남은 게 아되었는데 원수의 만지에 앉아서 \n",
      "정차를 \n"
     ]
    }
   ],
   "source": [
    "save_dir = 'data/nine_dreams'\n",
    "prime = decompose_text(u\"누구 \")\n",
    "\n",
    "print (\"Prime Text : %s => %s\" % (automata(prime), \"\".join(prime)))\n",
    "n = 2000\n",
    "\n",
    "sess = tf.Session()\n",
    "sess.run(tf.initialize_all_variables())\n",
    "saver = tf.train.Saver(tf.all_variables())\n",
    "ckpt = tf.train.get_checkpoint_state(save_dir)\n",
    "\n",
    "print (ckpt.model_checkpoint_path)\n",
    "#print chars\n",
    "#print vocab\n",
    "if ckpt and ckpt.model_checkpoint_path:\n",
    "    saver.restore(sess, ckpt.model_checkpoint_path)\n",
    "    sampled_text = sample(sess, chars, vocab, probs, n, prime)\n",
    "    #print (\"\")\n",
    "    print (u\"SAMPLED TEXT = %s\" % sampled_text)\n",
    "    print (\"\")\n",
    "    print (\"-- RESULT --\")\n",
    "    print (automata(\"\".join(sampled_text)))"
   ]
  },
  {
   "cell_type": "code",
   "execution_count": null,
   "metadata": {
    "collapsed": false
   },
   "outputs": [],
   "source": []
  }
 ],
 "metadata": {
  "kernelspec": {
   "display_name": "Python 2",
   "language": "python",
   "name": "python2"
  },
  "language_info": {
   "codemirror_mode": {
    "name": "ipython",
    "version": 2
   },
   "file_extension": ".py",
   "mimetype": "text/x-python",
   "name": "python",
   "nbconvert_exporter": "python",
   "pygments_lexer": "ipython2",
   "version": "2.7.6"
  }
 },
 "nbformat": 4,
 "nbformat_minor": 0
}
