{
 "cells": [
  {
   "cell_type": "markdown",
   "metadata": {},
   "source": [
    "# SIMPLE CONVOLUTIONAL NEURAL NETWORK"
   ]
  },
  {
   "cell_type": "code",
   "execution_count": 1,
   "metadata": {
    "collapsed": false
   },
   "outputs": [
    {
     "name": "stdout",
     "output_type": "stream",
     "text": [
      "PACKAGES LOADED\n"
     ]
    }
   ],
   "source": [
    "import numpy as np\n",
    "import tensorflow as tf\n",
    "import matplotlib.pyplot as plt\n",
    "from tensorflow.examples.tutorials.mnist import input_data\n",
    "%matplotlib inline  \n",
    "print (\"PACKAGES LOADED\")"
   ]
  },
  {
   "cell_type": "markdown",
   "metadata": {},
   "source": [
    "# LOAD MNIST"
   ]
  },
  {
   "cell_type": "code",
   "execution_count": 2,
   "metadata": {
    "collapsed": false
   },
   "outputs": [
    {
     "name": "stdout",
     "output_type": "stream",
     "text": [
      "Extracting data/train-images-idx3-ubyte.gz\n",
      "Extracting data/train-labels-idx1-ubyte.gz\n",
      "Extracting data/t10k-images-idx3-ubyte.gz\n",
      "Extracting data/t10k-labels-idx1-ubyte.gz\n",
      "MNIST ready\n"
     ]
    }
   ],
   "source": [
    "mnist = input_data.read_data_sets('data/', one_hot=True)\n",
    "trainimg   = mnist.train.images\n",
    "trainlabel = mnist.train.labels\n",
    "testimg    = mnist.test.images\n",
    "testlabel  = mnist.test.labels\n",
    "print (\"MNIST ready\")"
   ]
  },
  {
   "cell_type": "markdown",
   "metadata": {},
   "source": [
    "# SELECT DEVICE TO BE USED"
   ]
  },
  {
   "cell_type": "code",
   "execution_count": 3,
   "metadata": {
    "collapsed": true
   },
   "outputs": [],
   "source": [
    "device_type = \"/gpu:1\""
   ]
  },
  {
   "cell_type": "markdown",
   "metadata": {},
   "source": [
    "# DEFINE CNN  "
   ]
  },
  {
   "cell_type": "code",
   "execution_count": 4,
   "metadata": {
    "collapsed": false
   },
   "outputs": [
    {
     "name": "stdout",
     "output_type": "stream",
     "text": [
      "CNN ready\n"
     ]
    }
   ],
   "source": [
    "with tf.device(device_type): # <= This is optional\n",
    "    n_input  = 784\n",
    "    n_output = 10\n",
    "    weights  = {\n",
    "        'wc1': tf.Variable(tf.random_normal([3, 3, 1, 64], stddev=0.1)),\n",
    "        'wd1': tf.Variable(tf.random_normal([14*14*64, n_output], stddev=0.1))\n",
    "    }\n",
    "    biases   = {\n",
    "        'bc1': tf.Variable(tf.random_normal([64], stddev=0.1)),\n",
    "        'bd1': tf.Variable(tf.random_normal([n_output], stddev=0.1))\n",
    "    }\n",
    "    def conv_simple(_input, _w, _b):\n",
    "        # Reshape input\n",
    "        _input_r = tf.reshape(_input, shape=[-1, 28, 28, 1])\n",
    "        # Convolution\n",
    "        _conv1 = tf.nn.conv2d(_input_r, _w['wc1'], strides=[1, 1, 1, 1], padding='SAME')\n",
    "        # Add-bias\n",
    "        _conv2 = tf.nn.bias_add(_conv1, _b['bc1'])\n",
    "        # Pass ReLu\n",
    "        _conv3 = tf.nn.relu(_conv2)\n",
    "        # Max-pooling\n",
    "        _pool  = tf.nn.max_pool(_conv3, ksize=[1, 2, 2, 1], strides=[1, 2, 2, 1], padding='SAME')\n",
    "        # Vectorize\n",
    "        _dense = tf.reshape(_pool, [-1, _w['wd1'].get_shape().as_list()[0]])\n",
    "        # Fully-connected layer\n",
    "        _out = tf.add(tf.matmul(_dense, _w['wd1']), _b['bd1'])\n",
    "        # Return everything\n",
    "        out = {\n",
    "            'input_r': _input_r, 'conv1': _conv1, 'conv2': _conv2, 'conv3': _conv3\n",
    "            , 'pool': _pool, 'dense': _dense, 'out': _out\n",
    "        }\n",
    "        return out\n",
    "print (\"CNN ready\")"
   ]
  },
  {
   "cell_type": "markdown",
   "metadata": {},
   "source": [
    "# DEFINE COMPUTATIONAL GRAPH"
   ]
  },
  {
   "cell_type": "code",
   "execution_count": 5,
   "metadata": {
    "collapsed": false
   },
   "outputs": [
    {
     "name": "stdout",
     "output_type": "stream",
     "text": [
      "Network Ready to Go!\n"
     ]
    }
   ],
   "source": [
    "# tf Graph input\n",
    "x = tf.placeholder(tf.float32, [None, n_input])\n",
    "y = tf.placeholder(tf.float32, [None, n_output])\n",
    "# Parameters\n",
    "learning_rate   = 0.001\n",
    "training_epochs = 10\n",
    "batch_size      = 100\n",
    "display_step    = 1\n",
    "# Functions! \n",
    "with tf.device(device_type): # <= This is optional\n",
    "    _pred = conv_simple(x, weights, biases)['out']\n",
    "    cost = tf.reduce_mean(tf.nn.softmax_cross_entropy_with_logits(_pred, y))\n",
    "    optm = tf.train.AdamOptimizer(learning_rate=learning_rate).minimize(cost)\n",
    "    _corr = tf.equal(tf.argmax(_pred,1), tf.argmax(y,1)) # Count corrects\n",
    "    accr = tf.reduce_mean(tf.cast(_corr, tf.float32)) # Accuracy\n",
    "    init = tf.initialize_all_variables()\n",
    "# Saver \n",
    "save_step = 1;\n",
    "savedir = \"nets/\"\n",
    "saver = tf.train.Saver(max_to_keep=3) \n",
    "print (\"Network Ready to Go!\")"
   ]
  },
  {
   "cell_type": "markdown",
   "metadata": {},
   "source": [
    "# OPTIMIZE\n",
    "## DO TRAIN OR NOT"
   ]
  },
  {
   "cell_type": "code",
   "execution_count": 6,
   "metadata": {
    "collapsed": true
   },
   "outputs": [],
   "source": [
    "do_train = 1\n",
    "sess = tf.Session(config=tf.ConfigProto(allow_soft_placement=True))\n",
    "sess.run(init)"
   ]
  },
  {
   "cell_type": "code",
   "execution_count": 7,
   "metadata": {
    "collapsed": false,
    "scrolled": false
   },
   "outputs": [
    {
     "name": "stdout",
     "output_type": "stream",
     "text": [
      "Epoch: 000/010 cost: 0.343443582\n",
      " Training accuracy: 0.970\n",
      " Test accuracy: 0.954\n",
      "Epoch: 001/010 cost: 0.112461299\n",
      " Training accuracy: 0.980\n",
      " Test accuracy: 0.972\n",
      "Epoch: 002/010 cost: 0.077122928\n",
      " Training accuracy: 0.990\n",
      " Test accuracy: 0.977\n",
      "Epoch: 003/010 cost: 0.060476533\n",
      " Training accuracy: 0.990\n",
      " Test accuracy: 0.979\n",
      "Epoch: 004/010 cost: 0.051515679\n",
      " Training accuracy: 1.000\n",
      " Test accuracy: 0.979\n",
      "Epoch: 005/010 cost: 0.043873770\n",
      " Training accuracy: 0.970\n",
      " Test accuracy: 0.980\n",
      "Epoch: 006/010 cost: 0.037984453\n",
      " Training accuracy: 1.000\n",
      " Test accuracy: 0.982\n",
      "Epoch: 007/010 cost: 0.034028259\n",
      " Training accuracy: 0.980\n",
      " Test accuracy: 0.981\n",
      "Epoch: 008/010 cost: 0.029587148\n",
      " Training accuracy: 0.970\n",
      " Test accuracy: 0.982\n",
      "Epoch: 009/010 cost: 0.026662652\n",
      " Training accuracy: 1.000\n",
      " Test accuracy: 0.983\n",
      "Optimization Finished.\n"
     ]
    }
   ],
   "source": [
    "if do_train == 1:\n",
    "    for epoch in range(training_epochs):\n",
    "        avg_cost = 0.\n",
    "        total_batch = int(mnist.train.num_examples/batch_size)\n",
    "        # Loop over all batches\n",
    "        for i in range(total_batch):\n",
    "            batch_xs, batch_ys = mnist.train.next_batch(batch_size)\n",
    "            # Fit training using batch data\n",
    "            sess.run(optm, feed_dict={x: batch_xs, y: batch_ys})\n",
    "            # Compute average loss\n",
    "            avg_cost += sess.run(cost, feed_dict={x: batch_xs, y: batch_ys})/total_batch\n",
    "\n",
    "        # Display logs per epoch step\n",
    "        if epoch % display_step == 0: \n",
    "            print (\"Epoch: %03d/%03d cost: %.9f\" % (epoch, training_epochs, avg_cost))\n",
    "            train_acc = sess.run(accr, feed_dict={x: batch_xs, y: batch_ys})\n",
    "            print (\" Training accuracy: %.3f\" % (train_acc))\n",
    "            test_acc = sess.run(accr, feed_dict={x: testimg, y: testlabel})\n",
    "            print (\" Test accuracy: %.3f\" % (test_acc))\n",
    "\n",
    "        # Save Net\n",
    "        if epoch % save_step == 0:\n",
    "            saver.save(sess, \"nets/cnn_mnist_simple.ckpt-\" + str(epoch))\n",
    "    print (\"Optimization Finished.\")"
   ]
  },
  {
   "cell_type": "markdown",
   "metadata": {},
   "source": [
    "# RESTORE "
   ]
  },
  {
   "cell_type": "code",
   "execution_count": 8,
   "metadata": {
    "collapsed": false
   },
   "outputs": [],
   "source": [
    "if do_train == 0:\n",
    "    epoch = training_epochs-1\n",
    "    saver.restore(sess, \"nets/cnn_mnist_simple.ckpt-\" + str(epoch))\n",
    "    print (\"NETWORK RESTORED\")"
   ]
  },
  {
   "cell_type": "markdown",
   "metadata": {},
   "source": [
    "# LET'S SEE HOW CNN WORKS"
   ]
  },
  {
   "cell_type": "code",
   "execution_count": 9,
   "metadata": {
    "collapsed": false
   },
   "outputs": [],
   "source": [
    "with tf.device(device_type):\n",
    "    conv_out = conv_simple(x, weights, biases)\n",
    "\n",
    "input_r = sess.run(conv_out['input_r'], feed_dict={x: trainimg[0:1, :]})\n",
    "conv1   = sess.run(conv_out['conv1'], feed_dict={x: trainimg[0:1, :]})\n",
    "conv2   = sess.run(conv_out['conv2'], feed_dict={x: trainimg[0:1, :]})\n",
    "conv3   = sess.run(conv_out['conv3'], feed_dict={x: trainimg[0:1, :]})\n",
    "pool    = sess.run(conv_out['pool'], feed_dict={x: trainimg[0:1, :]})\n",
    "dense   = sess.run(conv_out['dense'], feed_dict={x: trainimg[0:1, :]})\n",
    "out     = sess.run(conv_out['out'], feed_dict={x: trainimg[0:1, :]})"
   ]
  },
  {
   "cell_type": "markdown",
   "metadata": {},
   "source": [
    "# Input"
   ]
  },
  {
   "cell_type": "code",
   "execution_count": 10,
   "metadata": {
    "collapsed": false
   },
   "outputs": [
    {
     "name": "stdout",
     "output_type": "stream",
     "text": [
      "Size of 'input_r' is (1, 28, 28, 1)\n",
      "Label is 7\n"
     ]
    },
    {
     "name": "stderr",
     "output_type": "stream",
     "text": [
      "/usr/lib/pymodules/python2.7/matplotlib/collections.py:548: FutureWarning: elementwise comparison failed; returning scalar instead, but in the future will perform elementwise comparison\n",
      "  if self._edgecolors == 'face':\n"
     ]
    },
    {
     "data": {
      "image/png": "[encoded data removed]",
      "text/plain": [
       "<matplotlib.figure.Figure at 0x7f5fc0b13f90>"
      ]
     },
     "metadata": {},
     "output_type": "display_data"
    }
   ],
   "source": [
    "# Let's see 'input_r'\n",
    "print (\"Size of 'input_r' is %s\" % (input_r.shape,))\n",
    "label = np.argmax(trainlabel[0, :])\n",
    "print (\"Label is %d\" % (label))\n",
    "\n",
    "# Plot ! \n",
    "plt.matshow(input_r[0, :, :, 0], cmap=plt.get_cmap('gray'))\n",
    "plt.title(\"Label of this image is \" + str(label) + \"\")\n",
    "plt.colorbar()\n",
    "plt.show()"
   ]
  },
  {
   "cell_type": "markdown",
   "metadata": {},
   "source": [
    "# Conv1 (convolution)"
   ]
  },
  {
   "cell_type": "code",
   "execution_count": 11,
   "metadata": {
    "collapsed": false,
    "scrolled": true
   },
   "outputs": [
    {
     "name": "stdout",
     "output_type": "stream",
     "text": [
      "Size of 'conv1' is (1, 28, 28, 64)\n"
     ]
    },
    {
     "data": {
      "image/png": "[encoded data removed]",
      "text/plain": [
       "<matplotlib.figure.Figure at 0x7f5f8825a590>"
      ]
     },
     "metadata": {},
     "output_type": "display_data"
    },
    {
     "data": {
      "image/png": "[encoded data removed]",
      "text/plain": [
       "<matplotlib.figure.Figure at 0x7f5f8818c690>"
      ]
     },
     "metadata": {},
     "output_type": "display_data"
    },
    {
     "data": {
      "image/png": "[encoded data removed]",
      "text/plain": [
       "<matplotlib.figure.Figure at 0x7f5fb3c34190>"
      ]
     },
     "metadata": {},
     "output_type": "display_data"
    }
   ],
   "source": [
    "# Let's see 'conv1'\n",
    "print (\"Size of 'conv1' is %s\" % (conv1.shape,))\n",
    "\n",
    "# Plot ! \n",
    "for i in range(3):\n",
    "    plt.matshow(conv1[0, :, :, i], cmap=plt.get_cmap('gray'))\n",
    "    plt.title(str(i) + \"th conv1\")\n",
    "    plt.colorbar()\n",
    "    plt.show() "
   ]
  },
  {
   "cell_type": "markdown",
   "metadata": {},
   "source": [
    "# Conv2 (+bias)"
   ]
  },
  {
   "cell_type": "code",
   "execution_count": 12,
   "metadata": {
    "collapsed": false,
    "scrolled": true
   },
   "outputs": [
    {
     "name": "stdout",
     "output_type": "stream",
     "text": [
      "Size of 'conv2' is (1, 28, 28, 64)\n"
     ]
    },
    {
     "data": {
      "image/png": "[encoded data removed]",
      "text/plain": [
       "<matplotlib.figure.Figure at 0x7f5f88209510>"
      ]
     },
     "metadata": {},
     "output_type": "display_data"
    },
    {
     "data": {
      "image/png": "[encoded data removed]",
      "text/plain": [
       "<matplotlib.figure.Figure at 0x7f5f88276910>"
      ]
     },
     "metadata": {},
     "output_type": "display_data"
    },
    {
     "data": {
      "image/png": "[encoded data removed]",
      "text/plain": [
       "<matplotlib.figure.Figure at 0x7f5f8818c690>"
      ]
     },
     "metadata": {},
     "output_type": "display_data"
    }
   ],
   "source": [
    "# Let's see 'conv2'\n",
    "print (\"Size of 'conv2' is %s\" % (conv2.shape,))\n",
    "\n",
    "# Plot ! \n",
    "for i in range(3):\n",
    "    plt.matshow(conv2[0, :, :, i], cmap=plt.get_cmap('gray'))\n",
    "    plt.title(str(i) + \"th conv2\")\n",
    "    plt.colorbar()\n",
    "    plt.show() "
   ]
  },
  {
   "cell_type": "markdown",
   "metadata": {},
   "source": [
    "# Conv3 (ReLU)"
   ]
  },
  {
   "cell_type": "code",
   "execution_count": 13,
   "metadata": {
    "collapsed": false,
    "scrolled": true
   },
   "outputs": [
    {
     "name": "stdout",
     "output_type": "stream",
     "text": [
      "Size of 'conv3' is (1, 28, 28, 64)\n"
     ]
    },
    {
     "data": {
      "image/png": "[encoded data removed]",
      "text/plain": [
       "<matplotlib.figure.Figure at 0x7f5f882f42d0>"
      ]
     },
     "metadata": {},
     "output_type": "display_data"
    },
    {
     "data": {
      "image/png": "[encoded data removed]",
      "text/plain": [
       "<matplotlib.figure.Figure at 0x7f5f88200390>"
      ]
     },
     "metadata": {},
     "output_type": "display_data"
    },
    {
     "data": {
      "image/png": "[encoded data removed]",
      "text/plain": [
       "<matplotlib.figure.Figure at 0x7f60d04ed310>"
      ]
     },
     "metadata": {},
     "output_type": "display_data"
    }
   ],
   "source": [
    "# Let's see 'conv3'\n",
    "print (\"Size of 'conv3' is %s\" % (conv3.shape,))\n",
    "\n",
    "# Plot ! \n",
    "for i in range(3):\n",
    "    plt.matshow(conv3[0, :, :, i], cmap=plt.get_cmap('gray'))\n",
    "    plt.title(str(i) + \"th conv3\")\n",
    "    plt.colorbar()\n",
    "    plt.show() "
   ]
  },
  {
   "cell_type": "markdown",
   "metadata": {},
   "source": [
    "# Pool (max_pool)"
   ]
  },
  {
   "cell_type": "code",
   "execution_count": 14,
   "metadata": {
    "collapsed": false,
    "scrolled": true
   },
   "outputs": [
    {
     "name": "stdout",
     "output_type": "stream",
     "text": [
      "Size of 'pool' is (1, 14, 14, 64)\n"
     ]
    },
    {
     "data": {
      "image/png": "[encoded data removed]",
      "text/plain": [
       "<matplotlib.figure.Figure at 0x7f5f881b8d90>"
      ]
     },
     "metadata": {},
     "output_type": "display_data"
    },
    {
     "data": {
      "image/png": "[encoded data removed]",
      "text/plain": [
       "<matplotlib.figure.Figure at 0x7f5fc0b3f2d0>"
      ]
     },
     "metadata": {},
     "output_type": "display_data"
    },
    {
     "data": {
      "image/png": "[encoded data removed]",
      "text/plain": [
       "<matplotlib.figure.Figure at 0x7f5fc0a69810>"
      ]
     },
     "metadata": {},
     "output_type": "display_data"
    }
   ],
   "source": [
    "# Let's see 'pool'\n",
    "print (\"Size of 'pool' is %s\" % (pool.shape,))\n",
    "\n",
    "# Plot ! \n",
    "for i in range(3):\n",
    "    plt.matshow(pool[0, :, :, i], cmap=plt.get_cmap('gray'))\n",
    "    plt.title(str(i) + \"th pool\")\n",
    "    plt.colorbar()\n",
    "    plt.show() "
   ]
  },
  {
   "cell_type": "markdown",
   "metadata": {},
   "source": [
    "# Dense"
   ]
  },
  {
   "cell_type": "code",
   "execution_count": 15,
   "metadata": {
    "collapsed": false
   },
   "outputs": [
    {
     "name": "stdout",
     "output_type": "stream",
     "text": [
      "Size of 'dense' is (1, 12544)\n",
      "Size of 'out' is (1, 10)\n"
     ]
    }
   ],
   "source": [
    "# Let's see 'dense'\n",
    "print (\"Size of 'dense' is %s\" % (dense.shape,))\n",
    "# Let's see 'out'\n",
    "print (\"Size of 'out' is %s\" % (out.shape,))"
   ]
  },
  {
   "cell_type": "markdown",
   "metadata": {},
   "source": [
    "# Convolution filters"
   ]
  },
  {
   "cell_type": "code",
   "execution_count": 16,
   "metadata": {
    "collapsed": false,
    "scrolled": true
   },
   "outputs": [
    {
     "name": "stdout",
     "output_type": "stream",
     "text": [
      "Size of 'wc1' is (3, 3, 1, 64)\n"
     ]
    },
    {
     "data": {
      "image/png": "[encoded data removed]",
      "text/plain": [
       "<matplotlib.figure.Figure at 0x7f5f881c4e90>"
      ]
     },
     "metadata": {},
     "output_type": "display_data"
    },
    {
     "data": {
      "image/png": "[encoded data removed]",
      "text/plain": [
       "<matplotlib.figure.Figure at 0x7f5fc0d63410>"
      ]
     },
     "metadata": {},
     "output_type": "display_data"
    },
    {
     "data": {
      "image/png": "[encoded data removed]",
      "text/plain": [
       "<matplotlib.figure.Figure at 0x7f60ba7c6910>"
      ]
     },
     "metadata": {},
     "output_type": "display_data"
    }
   ],
   "source": [
    "# Let's see weight! \n",
    "wc1 = sess.run(weights['wc1'])\n",
    "print (\"Size of 'wc1' is %s\" % (wc1.shape,))\n",
    "\n",
    "# Plot ! \n",
    "for i in range(3):\n",
    "    plt.matshow(wc1[:, :, 0, i], cmap=plt.get_cmap('gray'))\n",
    "    plt.title(str(i) + \"th conv filter\")\n",
    "    plt.colorbar()\n",
    "    plt.show() "
   ]
  }
 ],
 "metadata": {
  "kernelspec": {
   "display_name": "Python 2",
   "language": "python",
   "name": "python2"
  },
  "language_info": {
   "codemirror_mode": {
    "name": "ipython",
    "version": 2
   },
   "file_extension": ".py",
   "mimetype": "text/x-python",
   "name": "python",
   "nbconvert_exporter": "python",
   "pygments_lexer": "ipython2",
   "version": "2.7.6"
  }
 },
 "nbformat": 4,
 "nbformat_minor": 0
}
